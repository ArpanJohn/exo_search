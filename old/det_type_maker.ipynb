{
 "cells": [
  {
   "cell_type": "code",
   "execution_count": 1,
   "metadata": {},
   "outputs": [
    {
     "name": "stdout",
     "output_type": "stream",
     "text": [
      "7408\n"
     ]
    }
   ],
   "source": [
    "import pandas as pd\n",
    "import numpy as np\n",
    "import matplotlib.pyplot as plt\n",
    "from tabulate import tabulate\n",
    "\n",
    "df = pd.read_csv(r\"exoplanet_catalogue.csv\")\n",
    "print(len(df))\n",
    "column_list = df.columns.tolist()\n",
    "\n",
    "features = [\"name\",\"mass\", \"radius\", \"orbital_period\", \"semi_major_axis\", \"eccentricity\", \"inclination\", \"discovered\", \"omega\", \"star_distance\", \"star_mass\", \"star_radius\", \"star_age\", \"star_teff\"]\n",
    "features = [\"mass\", \"radius\", \"orbital_period\", \"semi_major_axis\", \"discovered\", \"star_distance\", \"star_mass\", \"star_radius\", \"star_teff\"]\n",
    "\n",
    "det_types = [\"Primary Transit\",\n",
    "             \"Radial Velocity\",\n",
    "             \"Imaging\",\n",
    "             \"Microlensing\",\n",
    "             \"Timing\",\n",
    "             \"Astrometry\",]"
   ]
  },
  {
   "cell_type": "code",
   "execution_count": 2,
   "metadata": {},
   "outputs": [
    {
     "name": "stdout",
     "output_type": "stream",
     "text": [
      "\n",
      "Unique Names with Frequencies:\n",
      "detection_type\n",
      "Primary Transit                         4491\n",
      "Radial Velocity                         1137\n",
      "Imaging                                  932\n",
      "Microlensing                             313\n",
      "Timing                                   160\n",
      "Radial Velocity, Astrometry               99\n",
      "Imaging, Astrometry                       48\n",
      "Astrometry                                47\n",
      "Imaging, Other                            46\n",
      "Other                                     42\n",
      "TTV                                       32\n",
      "Timing, Kinematic                         10\n",
      "Radial Velocity, Primary Transit           7\n",
      "Primary Transit, Radial Velocity           7\n",
      "Timing, Other                              6\n",
      "Imaging, Other, Kinematic                  5\n",
      "Imaging, Kinematic                         5\n",
      "Radial Velocity, Imaging                   4\n",
      "Astrometry, Radial Velocity                2\n",
      "Primary Transit, TTV                       2\n",
      "Astrometry, Radial Velocity, Imaging       1\n",
      "Other, Imaging                             1\n",
      "Kinematic, Other                           1\n",
      "Imaging, Other, Astrometry                 1\n",
      "Timing, Astrometry                         1\n",
      "Other, Kinematic                           1\n",
      "Imaging, Radial Velocity, Astrometry       1\n",
      "Other, Radial Velocity                     1\n",
      "Astrometry, Imaging                        1\n",
      "Radial Velocity, Timing                    1\n",
      "Imaging, Primary Transit                   1\n",
      "Primary Transit, Astrometry                1\n",
      "Other, Imaging, Kinematic                  1\n",
      "Name: count, dtype: int64\n"
     ]
    }
   ],
   "source": [
    "unique_names_freq = df['detection_type'].value_counts()\n",
    "print(\"\\nUnique Names with Frequencies:\")\n",
    "print(unique_names_freq)"
   ]
  },
  {
   "cell_type": "code",
   "execution_count": 3,
   "metadata": {},
   "outputs": [],
   "source": [
    "new_rows = []\n",
    "\n",
    "df_drop = df[[\"detection_type\"] + features].copy()\n",
    "for i in det_types:\n",
    "    for index, row in df_drop.iterrows():\n",
    "        if i in row['detection_type']:\n",
    "            new_row = row\n",
    "            new_row['detection_type'] = i\n",
    "            new_rows.append(new_row)"
   ]
  },
  {
   "cell_type": "code",
   "execution_count": 4,
   "metadata": {},
   "outputs": [
    {
     "name": "stdout",
     "output_type": "stream",
     "text": [
      "7509\n",
      "0: detection_type\n",
      "1: mass\n",
      "2: radius\n",
      "3: orbital_period\n",
      "4: semi_major_axis\n",
      "5: discovered\n",
      "6: star_distance\n",
      "7: star_mass\n",
      "8: star_radius\n",
      "9: star_teff\n"
     ]
    }
   ],
   "source": [
    "df1 = pd.DataFrame(new_rows)\n",
    "print(len(df1))\n",
    "\n",
    "column_list = df1.columns.tolist()\n",
    "for i in range(len(column_list)):\n",
    "    print(f\"{i}: {column_list[i]}\", end = \"\\n\")"
   ]
  },
  {
   "cell_type": "code",
   "execution_count": 5,
   "metadata": {},
   "outputs": [
    {
     "name": "stdout",
     "output_type": "stream",
     "text": [
      "NaN Value Counts per Column:\n",
      "Column 'detection_type': 0 NaN values\n",
      "Column 'mass': 2956 NaN values\n",
      "Column 'radius': 2534 NaN values\n",
      "Column 'orbital_period': 1325 NaN values\n",
      "Column 'semi_major_axis': 2290 NaN values\n",
      "Column 'discovered': 0 NaN values\n",
      "Column 'star_distance': 367 NaN values\n",
      "Column 'star_mass': 1266 NaN values\n",
      "Column 'star_radius': 1701 NaN values\n",
      "Column 'star_teff': 1513 NaN values\n"
     ]
    }
   ],
   "source": [
    "def count_nan_per_column(df):\n",
    "  \"\"\"\n",
    "  Calculates and displays the number of NaN (Not a Number) values\n",
    "  in each column of a pandas DataFrame.\n",
    "\n",
    "  Args:\n",
    "    df: The pandas DataFrame to inspect.\n",
    "\n",
    "  Returns:\n",
    "    None. Prints the NaN count for each column.\n",
    "  \"\"\"\n",
    "  print(\"NaN Value Counts per Column:\")\n",
    "  for col in df.columns:\n",
    "    nan_count = df[col].isnull().sum()\n",
    "    print(f\"Column '{col}': {nan_count} NaN values\")\n",
    "\n",
    "# Call the function to count NaNs\n",
    "count_nan_per_column(df1)\n"
   ]
  },
  {
   "cell_type": "code",
   "execution_count": 7,
   "metadata": {},
   "outputs": [
    {
     "name": "stdout",
     "output_type": "stream",
     "text": [
      "1362\n",
      "      detection_type      mass  radius  orbital_period  semi_major_axis  \\\n",
      "314  Primary Transit   0.02703  0.1737        0.736548         0.015439   \n",
      "349  Primary Transit   0.02800  0.4273        8.463446         0.070000   \n",
      "350  Primary Transit   0.10100  2.7900       18.859023         0.119000   \n",
      "372  Primary Transit   0.07000  0.2300       41.685500         0.241000   \n",
      "468  Primary Transit   2.75000  0.9700       13.240600         0.105500   \n",
      "469  Primary Transit   2.33000  1.4300        2.994325         0.043510   \n",
      "470  Primary Transit   0.91700  1.4400        2.828052         0.040160   \n",
      "471  Primary Transit   1.30800  0.8850        4.035091         0.051000   \n",
      "472  Primary Transit   7.60000  1.0900        1.512140         0.027000   \n",
      "473  Primary Transit  63.40000  1.1200        3.060360         0.045000   \n",
      "\n",
      "     discovered  star_distance  star_mass  star_radius  star_teff  \n",
      "314        2004        12.5855      0.900        0.963     5250.0  \n",
      "349        2020         9.7900      0.500        0.750     3700.0  \n",
      "350        2020         9.7900      0.500        0.750     3700.0  \n",
      "372        2016       180.3900      1.670        1.080     5766.0  \n",
      "468        2010       345.0000      0.890        0.790     5075.0  \n",
      "469        2010       560.0000      1.270        1.360     6343.0  \n",
      "470        2010      1150.0000      1.078        1.116     5675.0  \n",
      "471        2010      1310.0000      1.090        1.010     5945.0  \n",
      "472        2010      1340.0000      1.130        1.210     6035.0  \n",
      "473        2010      1270.0000      1.320        1.460     6350.0  \n",
      "\n",
      "Unique Names with Frequencies:\n",
      "detection_type\n",
      "Primary Transit    1262\n",
      "Radial Velocity      62\n",
      "Imaging              23\n",
      "Timing                9\n",
      "Astrometry            6\n",
      "Name: count, dtype: int64\n"
     ]
    }
   ],
   "source": [
    "df_drop = df1.dropna().copy()\n",
    "print(len(df_drop))\n",
    "\n",
    "print(df_drop.head(10))\n",
    "\n",
    "unique_names_freq = df_drop['detection_type'].value_counts()\n",
    "print(\"\\nUnique Names with Frequencies:\")\n",
    "print(unique_names_freq)"
   ]
  },
  {
   "cell_type": "code",
   "execution_count": 6,
   "metadata": {},
   "outputs": [
    {
     "name": "stdout",
     "output_type": "stream",
     "text": [
      "4610\n",
      "716\n"
     ]
    }
   ],
   "source": [
    "def count_complete_rows_in_columns(df, column_list):\n",
    "    \"\"\"\n",
    "    Counts the number of rows in a DataFrame where none of the specified\n",
    "    columns have NaN values.\n",
    "\n",
    "    Args:\n",
    "    df (pd.DataFrame): The input pandas DataFrame.\n",
    "    column_list (list): A list of column names to check for NaN values.\n",
    "\n",
    "    Returns:\n",
    "    int: The number of rows where all specified columns have non-NaN values.\n",
    "    \"\"\"\n",
    "    if not all(col in df.columns for col in column_list):\n",
    "        raise ValueError(\"One or more columns in the provided list do not exist in the DataFrame.\")\n",
    "\n",
    "    # Select the specified columns\n",
    "    subset_df = df[column_list]\n",
    "\n",
    "    # Check for rows where all values in the subset are not NaN\n",
    "    complete_rows_mask = ~subset_df.isnull().any(axis=1)\n",
    "\n",
    "    # Count the number of True values in the mask\n",
    "    complete_rows_count = complete_rows_mask.sum()\n",
    "\n",
    "    return complete_rows_count\n",
    "\n",
    "def count_rows_with_all_nan_in_columns(df, column_list):\n",
    "    \"\"\"\n",
    "    Counts the number of rows in a DataFrame where all of the specified\n",
    "    columns have NaN values.\n",
    "\n",
    "    Args:\n",
    "    df (pd.DataFrame): The input pandas DataFrame.\n",
    "    column_list (list): A list of column names to check for NaN values.\n",
    "\n",
    "    Returns:\n",
    "    int: The number of rows where all specified columns have NaN values.\n",
    "    \"\"\"\n",
    "    if not all(col in df.columns for col in column_list):\n",
    "        raise ValueError(\"One or more columns in the provided list do not exist in the DataFrame.\")\n",
    "\n",
    "    # Select the specified columns\n",
    "    subset_df = df[column_list]\n",
    "\n",
    "    # Check for rows where all values in the subset are NaN\n",
    "    all_nan_rows_mask = subset_df.isnull().all(axis=1)\n",
    "\n",
    "    # Count the number of True values in the mask\n",
    "    all_nan_rows_count = all_nan_rows_mask.sum()\n",
    "\n",
    "    return all_nan_rows_count\n",
    "\n",
    "# Call the function to count NaNs\n",
    "# col_to_check = [\"star_mass\", \"star_radius\",\"star_teff\"]\n",
    "col_to_check = [\"orbital_period\", \"semi_major_axis\"]\n",
    "print(count_complete_rows_in_columns(df1, col_to_check))\n",
    "\n",
    "print(count_rows_with_all_nan_in_columns(df1, col_to_check))"
   ]
  },
  {
   "cell_type": "code",
   "execution_count": 7,
   "metadata": {},
   "outputs": [
    {
     "name": "stdout",
     "output_type": "stream",
     "text": [
      "\n",
      "Unique Names with Frequencies:\n",
      "detection_type\n",
      "Primary Transit    4509\n",
      "Radial Velocity    1260\n",
      "Imaging            1047\n",
      "Microlensing        313\n",
      "Astrometry          202\n",
      "Timing              178\n",
      "Name: count, dtype: int64\n"
     ]
    }
   ],
   "source": [
    "unique_names_freq = df1['detection_type'].value_counts()\n",
    "print(\"\\nUnique Names with Frequencies:\")\n",
    "print(unique_names_freq)"
   ]
  },
  {
   "cell_type": "code",
   "execution_count": null,
   "metadata": {},
   "outputs": [],
   "source": [
    "# df1.to_csv('exo-det_type.csv', index=False)"
   ]
  },
  {
   "cell_type": "code",
   "execution_count": 14,
   "metadata": {},
   "outputs": [
    {
     "name": "stdout",
     "output_type": "stream",
     "text": [
      "2450\n",
      "-2.0\n",
      "279.0\n"
     ]
    },
    {
     "data": {
      "image/png": "[encoded data removed]",
      "text/plain": [
       "<Figure size 640x480 with 1 Axes>"
      ]
     },
     "metadata": {},
     "output_type": "display_data"
    }
   ],
   "source": [
    "# angle of inclination range\n",
    "dfi = df[['detection_type',\"inclination\"]].copy()\n",
    "dfi = dfi.dropna().copy()\n",
    "\n",
    "print(len(dfi))\n",
    "\n",
    "i = dfi['inclination'].tolist()\n",
    "\n",
    "print(min(i))\n",
    "print(max(i))\n",
    "\n",
    "plt.hist(i,bins =30)\n",
    "plt.show()"
   ]
  },
  {
   "cell_type": "code",
   "execution_count": null,
   "metadata": {},
   "outputs": [],
   "source": [
    "print"
   ]
  }
 ],
 "metadata": {
  "kernelspec": {
   "display_name": "base",
   "language": "python",
   "name": "python3"
  },
  "language_info": {
   "codemirror_mode": {
    "name": "ipython",
    "version": 3
   },
   "file_extension": ".py",
   "mimetype": "text/x-python",
   "name": "python",
   "nbconvert_exporter": "python",
   "pygments_lexer": "ipython3",
   "version": "3.9.18"
  }
 },
 "nbformat": 4,
 "nbformat_minor": 2
}
