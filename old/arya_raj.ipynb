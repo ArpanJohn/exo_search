{
 "cells": [
  {
   "cell_type": "code",
   "execution_count": 35,
   "metadata": {},
   "outputs": [
    {
     "name": "stdout",
     "output_type": "stream",
     "text": [
      "88\n",
      "1.187904967602592\n"
     ]
    }
   ],
   "source": [
    "import pandas as pd\n",
    "import matplotlib.pyplot as plt\n",
    "import numpy as np\n",
    "\n",
    "# Load the dataset\n",
    "df = pd.read_csv(r\"exoplanet_catalogue.csv\")\n",
    "\n",
    "#------------------------------\n",
    "# Earth-like classification rule\n",
    "# -------------------------------\n",
    "def is_earth_like(row):\n",
    "    return (\n",
    "        0.5 / 317.906 <= row[\"mass\"] <= 5.0 / 317.906 and            \n",
    "        2.4<= row[\"mass\"] /((row['radius'])**3)<= 6.65 and            # Citation : Zeng, L., Sasselov, D. D., & Jacobsen, S. B. (2016). “Mass–radius relation for rocky planets based on PREM.” The Astrophysical Journal, 819(2), 127.\n",
    "        0.0729 <= row[\"radius\"] <= 0.137                                       # Citation : Zeng et al. (2016). Planet Radius Gap. and arXiv: 1407.4457 [astro-ph.EP]\n",
    "        # 0.95 <= row[\"semi_major_axis\"] <= 1.37 and                                # Cite : https://doi.org/10.1006/icar.1993.1010.\n",
    "        # (0.0713 <= row[\"star_mass\"] <= 0.107 or                                    # Citation : Scalo et al. (2007) – M-dwarfs and Earth-likeness\n",
    "        # 0.8 <= row[\"star_radius\"] <= 1.2) and                                      # Citation : Kaltenegger & Traub (2009) focus on planets around F, G, K stars , HabCat (Habitable Catalog by Turnbull & Tarter, 2003) uses a similar logic for identifying candidate stars.\n",
    "        # 4800 <= row[\"star_teff\"] <= 6300                                          # Citation: Kaltenegger & Traub (2009)\n",
    "    )\n",
    "\n",
    "df[\"earth_like\"] = df.apply(is_earth_like, axis=1)\n",
    "\n",
    "# -------------------------------\n",
    "# Select features and labels\n",
    "# -------------------------------\n",
    "features = [\"mass\", \"radius\", \"orbital_period\", \"semi_major_axis\",\n",
    "            \"star_mass\", \"star_radius\", \"star_teff\"]\n",
    "#print(df['earth_like'])\n",
    "count_true = np.count_nonzero(df['earth_like'])\n",
    "print(count_true)\n",
    "earth_like_planets = df[df['earth_like']]\n",
    "len(df)\n",
    "percentage = (count_true/len(df))*100\n",
    "print(percentage)\n",
    "#print(earth_like_planets)"
   ]
  },
  {
   "cell_type": "code",
   "execution_count": 36,
   "metadata": {},
   "outputs": [],
   "source": [
    "# while True: \n",
    "#     # Get a random index from the DataFrame\n",
    "#     random_index = np.random.choice(df.index)\n",
    "\n",
    "#     # Select the random row\n",
    "#     random_row = df.loc[random_index]\n",
    "\n",
    "#     if random_row['earth_like'] == True:\n",
    "#         print(f\"index {random_index} is Earth-like: {random_row['earth_like']}\")\n",
    "#         # Print the specified features from the random row\n",
    "#         print(f\"Mass: {random_row['mass']}\")\n",
    "#         print(f\"Radius: {random_row['radius']}\")\n",
    "#         print(f\"Semi-major Axis: {random_row['semi_major_axis']}\")\n",
    "#         print(f\"Star Mass: {random_row['star_mass']}\")\n",
    "#         print(f\"Star Radius: {random_row['star_radius']}\")\n",
    "#         print(f\"Star Effective Temperature: {random_row['star_teff']}\")\n",
    "\n",
    "#         break"
   ]
  },
  {
   "cell_type": "code",
   "execution_count": null,
   "metadata": {},
   "outputs": [
    {
     "name": "stdout",
     "output_type": "stream",
     "text": [
      "mass_e: 5.97345642e+24\n",
      "radius_e: 6377958.903\n",
      "density_e: 5496.572248141412\n",
      "Escape_velocity: 11177.634549471755\n"
     ]
    },
    {
     "data": {
      "text/plain": [
       "0.9988024216524054"
      ]
     },
     "execution_count": 43,
     "metadata": {},
     "output_type": "execute_result"
    }
   ],
   "source": [
    "def compute_esi(mass, radius, star_temp, star_radius, semi_major_axis, w_radius=0.57, w_density=1.07, w_Escape_velocity= 0.7, w_temp = 5.58):\n",
    "    # Conversion factors\n",
    "    MJ_TO_ME = 1.899e+27     # Jupiter mass to Earth mass\n",
    "    RJ_TO_RE = 7.149e+7     # Jupiter radius to Earth radius\n",
    "    G =6.67*10**(-11)\n",
    "\n",
    "    # Convert to SI units\n",
    "    mass_e = mass * MJ_TO_ME\n",
    "    radius_e = radius * RJ_TO_RE\n",
    "\n",
    "    # Estimate density in SI units:\n",
    "    density_e = mass_e /((4/3)*np.pi*(radius_e ** 3))\n",
    "    #Escape velocity\n",
    "    Escape_velocity = np.sqrt(2*mass_e*G/radius_e)\n",
    "\n",
    "    # Exoplanet Equilibrium tempertaure calculations\n",
    "    T_eq = star_temp  * np.sqrt(star_radius / (2 * semi_major_axis)) * (1-0.3) ** 0.25\n",
    "\n",
    "    # print(f\"mass_e: {mass_e}\")\n",
    "    # print(f\"radius_e: {radius_e}\")\n",
    "    # print(f\"density_e: {density_e}\")\n",
    "    # print(f\"Escape_velocity: {Escape_velocity}\")\n",
    "\n",
    "    # Normalized ESI formula (interior version)\n",
    "    r_comp = (1 - abs((radius_e - 6.378e+6) / (radius_e + 6.378e+6))) ** w_radius\n",
    "    d_comp = (1 - abs((density_e - 5532) / (density_e + 5532))) ** w_density\n",
    "    v_comp = (1 - abs((Escape_velocity - 11186 ) / (Escape_velocity + 11186 ))) ** w_Escape_velocity\n",
    "    t_comp = (1 - abs((T_eq - 288) / (T_eq + 288))) ** w_temp\n",
    "    # Calculate ESI\n",
    "    esi = (r_comp * d_comp*v_comp) ** (1 / (w_radius + w_density + w_Escape_velocity))\n",
    "    return esi\n",
    "\n",
    "compute_esi(0.00314558, 0.0892147)"
   ]
  },
  {
   "cell_type": "code",
   "execution_count": 45,
   "metadata": {},
   "outputs": [
    {
     "name": "stdout",
     "output_type": "stream",
     "text": [
      "mass_e: 1.899e+27\n",
      "radius_e: 71490000.0\n",
      "density_e: 1240.7962270763508\n",
      "Escape_velocity: 59527.51438223392\n"
     ]
    },
    {
     "data": {
      "text/plain": [
       "0.2667923935316452"
      ]
     },
     "execution_count": 45,
     "metadata": {},
     "output_type": "execute_result"
    }
   ],
   "source": [
    "compute_esi(1,1)"
   ]
  },
  {
   "cell_type": "code",
   "execution_count": 46,
   "metadata": {},
   "outputs": [
    {
     "name": "stdout",
     "output_type": "stream",
     "text": [
      "mass_e: 0       1.090596e+28\n",
      "1       6.266700e+25\n",
      "2       1.873553e+28\n",
      "3       3.062783e+28\n",
      "4       2.105478e+28\n",
      "            ...     \n",
      "7403    3.608100e+28\n",
      "7404    9.495000e+28\n",
      "7405    1.158390e+29\n",
      "7406    4.367700e+28\n",
      "7407    4.937400e+28\n",
      "Name: mass, Length: 7408, dtype: float64\n",
      "radius_e: 0       82356480.0\n",
      "1              NaN\n",
      "2              NaN\n",
      "3              NaN\n",
      "4              NaN\n",
      "           ...    \n",
      "7403    31455600.0\n",
      "7404    20875080.0\n",
      "7405    70060200.0\n",
      "7406    48613200.0\n",
      "7407    35030100.0\n",
      "Name: radius, Length: 7408, dtype: float64\n",
      "density_e: 0       4.661029e+03\n",
      "1                NaN\n",
      "2                NaN\n",
      "3                NaN\n",
      "4                NaN\n",
      "            ...     \n",
      "7403    2.767554e+05\n",
      "7404    2.491850e+06\n",
      "7405    8.041778e+04\n",
      "7406    9.076148e+04\n",
      "7407    2.742114e+05\n",
      "Length: 7408, dtype: float64\n",
      "Escape_velocity: 0       132910.997444\n",
      "1                 NaN\n",
      "2                 NaN\n",
      "3                 NaN\n",
      "4                 NaN\n",
      "            ...      \n",
      "7403    391172.405614\n",
      "7404    778953.127000\n",
      "7405    469644.919148\n",
      "7406    346200.116976\n",
      "7407    433617.082044\n",
      "Length: 7408, dtype: float64\n"
     ]
    }
   ],
   "source": [
    "df['ESI'] = compute_esi(df['mass'],df['radius'])\n"
   ]
  },
  {
   "cell_type": "code",
   "execution_count": 47,
   "metadata": {},
   "outputs": [
    {
     "name": "stdout",
     "output_type": "stream",
     "text": [
      "max of ESI: 0.9966880967167873\n"
     ]
    }
   ],
   "source": [
    "print(f\"max of ESI: {df['ESI'].max()}\")"
   ]
  },
  {
   "cell_type": "code",
   "execution_count": 48,
   "metadata": {},
   "outputs": [
    {
     "data": {
      "image/png": "[encoded data removed]",
      "text/plain": [
       "<Figure size 800x500 with 1 Axes>"
      ]
     },
     "metadata": {},
     "output_type": "display_data"
    }
   ],
   "source": [
    "import matplotlib.pyplot as plt\n",
    "\n",
    "plt.figure(figsize=(8, 5))\n",
    "plt.hist(df[\"ESI\"], bins=20, color=\"skyblue\", edgecolor=\"black\")\n",
    "plt.xlabel(\"Earth Similarity Index (ESI)\")\n",
    "plt.ylabel(\"Number of Planets\")\n",
    "plt.title(\"Histogram of Earth Similarity Index (ESI)\")\n",
    "plt.grid(True)\n",
    "plt.tight_layout()\n",
    "plt.show()\n"
   ]
  },
  {
   "cell_type": "code",
   "execution_count": 55,
   "metadata": {},
   "outputs": [
    {
     "name": "stdout",
     "output_type": "stream",
     "text": [
      "133\n"
     ]
    }
   ],
   "source": [
    "eldf = df[df['ESI']>0.8].copy()\n",
    "\n",
    "print(len(eldf))"
   ]
  },
  {
   "cell_type": "code",
   "execution_count": null,
   "metadata": {},
   "outputs": [
    {
     "name": "stdout",
     "output_type": "stream",
     "text": [
      "index 6564 is Earth-like: 0.9057770081217893\n",
      "Mass: 0.0069\n",
      "Radius: 0.1169\n",
      "Semi-major Axis: 0.0204\n",
      "Star Mass: 0.99\n",
      "Star Radius: 0.94\n",
      "Star Effective Temperature: 5752.0\n",
      "Equilibrium Temperature: 1722.53 K\n"
     ]
    }
   ],
   "source": [
    "# Constants\n",
    "ALBEDO = 0.3\n",
    "SOLAR_RADIUS_M = 6.96e8  # in meters\n",
    "AU_M = 1.496e11  # in meters\n",
    "\n",
    "\n",
    "while True: \n",
    "    # Get a random index from the DataFrame\n",
    "    random_index = np.random.choice(df.index)\n",
    "\n",
    "    # Select the random row\n",
    "    random_row = df.loc[random_index]\n",
    "\n",
    "    if random_row['ESI'] > 0.9:\n",
    "        print(f\"index {random_index} is Earth-like: {random_row['ESI']}\")\n",
    "        # Print the specified features from the random row\n",
    "        print(f\"Mass: {random_row['mass']}\")\n",
    "        print(f\"Radius: {random_row['radius']}\")\n",
    "        print(f\"Semi-major Axis: {random_row['semi_major_axis']}\")\n",
    "        print(f\"Star Mass: {random_row['star_mass']}\")\n",
    "        print(f\"Star Radius: {random_row['star_radius']}\")\n",
    "        print(f\"Star Effective Temperature: {random_row['star_teff']}\")\n",
    "\n",
    "        # Convert R and a to meters\n",
    "        R = random_row['star_radius'] * SOLAR_RADIUS_M\n",
    "        a_m = random_row['semi_major_axis'] * AU_M\n",
    "\n",
    "        # Compute equilibrium temperature\n",
    "        T_eq = random_row['star_teff'] * np.sqrt(R / (2 * a_m)) * (1 - ALBEDO) ** 0.25\n",
    "        print(f\"Equilibrium Temperature: {T_eq:.2f} K\")\n",
    "\n",
    "        break"
   ]
  },
  {
   "cell_type": "code",
   "execution_count": 73,
   "metadata": {},
   "outputs": [
    {
     "name": "stdout",
     "output_type": "stream",
     "text": [
      "7408\n",
      "1455\n"
     ]
    }
   ],
   "source": [
    "print(len(df))\n",
    "\n",
    "df_drop = df.dropna(subset=['mass','radius','star_teff','semi_major_axis','star_radius'])\n",
    "print(len(df_drop))"
   ]
  },
  {
   "cell_type": "code",
   "execution_count": 68,
   "metadata": {},
   "outputs": [
    {
     "name": "stdout",
     "output_type": "stream",
     "text": [
      "24.375991809138217\n"
     ]
    }
   ],
   "source": [
    "T_eq = 5772 * np.sqrt(6.378e+6 / (2 * 1.496e+11)) * (1 - ALBEDO) ** 0.25\n",
    "\n",
    "print(T_eq)"
   ]
  },
  {
   "cell_type": "markdown",
   "metadata": {},
   "source": [
    "ESI will be a broad classification to narrow down on Earth like planets\n",
    "\n",
    "Then we calculate the $T_{eq}$. We assume no greenhouse effect, and similar atmospheric pressure to Earth, this leads to a simliar freezing and boiling point of water. Using $T_{eq}$ we again constain our Earth like planets."
   ]
  }
 ],
 "metadata": {
  "kernelspec": {
   "display_name": "base",
   "language": "python",
   "name": "python3"
  },
  "language_info": {
   "codemirror_mode": {
    "name": "ipython",
    "version": 3
   },
   "file_extension": ".py",
   "mimetype": "text/x-python",
   "name": "python",
   "nbconvert_exporter": "python",
   "pygments_lexer": "ipython3",
   "version": "3.9.18"
  }
 },
 "nbformat": 4,
 "nbformat_minor": 2
}
