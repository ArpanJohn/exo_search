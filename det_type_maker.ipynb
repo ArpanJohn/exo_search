{
 "cells": [
  {
   "cell_type": "code",
   "execution_count": 36,
   "metadata": {},
   "outputs": [
    {
     "name": "stdout",
     "output_type": "stream",
     "text": [
      "7408\n"
     ]
    }
   ],
   "source": [
    "import pandas as pd\n",
    "import numpy as np\n",
    "import matplotlib.pyplot as plt\n",
    "from tabulate import tabulate\n",
    "\n",
    "df = pd.read_csv(r\"exoplanet_catalogue.csv\")\n",
    "print(len(df))\n",
    "column_list = df.columns.tolist()\n",
    "\n",
    "features = [\"mass\", \"radius\", \"orbital_period\", \"semi_major_axis\", \"eccentricity\", \"inclination\", \"discovered\", \"omega\", \"star_distance\", \"star_mass\", \"star_radius\", \"star_age\", \"star_teff\"]\n",
    "\n",
    "det_types = [\"Primary Transit\",\n",
    "             \"Radial Velocity\",\n",
    "             \"Imaging\",\n",
    "             \"Microlensing\",\n",
    "             \"Timing\",\n",
    "             \"Astrometry\",]"
   ]
  },
  {
   "cell_type": "code",
   "execution_count": 37,
   "metadata": {},
   "outputs": [
    {
     "name": "stdout",
     "output_type": "stream",
     "text": [
      "\n",
      "Unique Names with Frequencies:\n",
      "detection_type\n",
      "Primary Transit                         4491\n",
      "Radial Velocity                         1137\n",
      "Imaging                                  932\n",
      "Microlensing                             313\n",
      "Timing                                   160\n",
      "Radial Velocity, Astrometry               99\n",
      "Imaging, Astrometry                       48\n",
      "Astrometry                                47\n",
      "Imaging, Other                            46\n",
      "Other                                     42\n",
      "TTV                                       32\n",
      "Timing, Kinematic                         10\n",
      "Radial Velocity, Primary Transit           7\n",
      "Primary Transit, Radial Velocity           7\n",
      "Timing, Other                              6\n",
      "Imaging, Other, Kinematic                  5\n",
      "Imaging, Kinematic                         5\n",
      "Radial Velocity, Imaging                   4\n",
      "Astrometry, Radial Velocity                2\n",
      "Primary Transit, TTV                       2\n",
      "Astrometry, Radial Velocity, Imaging       1\n",
      "Other, Imaging                             1\n",
      "Kinematic, Other                           1\n",
      "Imaging, Other, Astrometry                 1\n",
      "Timing, Astrometry                         1\n",
      "Other, Kinematic                           1\n",
      "Imaging, Radial Velocity, Astrometry       1\n",
      "Other, Radial Velocity                     1\n",
      "Astrometry, Imaging                        1\n",
      "Radial Velocity, Timing                    1\n",
      "Imaging, Primary Transit                   1\n",
      "Primary Transit, Astrometry                1\n",
      "Other, Imaging, Kinematic                  1\n",
      "Name: count, dtype: int64\n"
     ]
    }
   ],
   "source": [
    "unique_names_freq = df['detection_type'].value_counts()\n",
    "print(\"\\nUnique Names with Frequencies:\")\n",
    "print(unique_names_freq)"
   ]
  },
  {
   "cell_type": "code",
   "execution_count": 38,
   "metadata": {},
   "outputs": [],
   "source": [
    "new_rows = []\n",
    "\n",
    "df_drop = df[[\"detection_type\"] + features].copy()\n",
    "for i in det_types:\n",
    "    for index, row in df_drop.iterrows():\n",
    "        if i in row['detection_type']:\n",
    "            new_row = row\n",
    "            new_row['detection_type'] = i\n",
    "            new_rows.append(new_row)"
   ]
  },
  {
   "cell_type": "code",
   "execution_count": 39,
   "metadata": {},
   "outputs": [
    {
     "name": "stdout",
     "output_type": "stream",
     "text": [
      "7509\n",
      "0: detection_type\n",
      "1: mass\n",
      "2: radius\n",
      "3: orbital_period\n",
      "4: semi_major_axis\n",
      "5: eccentricity\n",
      "6: inclination\n",
      "7: discovered\n",
      "8: omega\n",
      "9: star_distance\n",
      "10: star_mass\n",
      "11: star_radius\n",
      "12: star_age\n",
      "13: star_teff\n"
     ]
    }
   ],
   "source": [
    "df1 = pd.DataFrame(new_rows)\n",
    "print(len(df1))\n",
    "\n",
    "column_list = df1.columns.tolist()\n",
    "for i in range(len(column_list)):\n",
    "    print(f\"{i}: {column_list[i]}\", end = \"\\n\")"
   ]
  },
  {
   "cell_type": "code",
   "execution_count": 40,
   "metadata": {},
   "outputs": [
    {
     "name": "stdout",
     "output_type": "stream",
     "text": [
      "\n",
      "Unique Names with Frequencies:\n",
      "detection_type\n",
      "Primary Transit    4509\n",
      "Radial Velocity    1260\n",
      "Imaging            1047\n",
      "Microlensing        313\n",
      "Astrometry          202\n",
      "Timing              178\n",
      "Name: count, dtype: int64\n"
     ]
    }
   ],
   "source": [
    "unique_names_freq = df1['detection_type'].value_counts()\n",
    "print(\"\\nUnique Names with Frequencies:\")\n",
    "print(unique_names_freq)"
   ]
  },
  {
   "cell_type": "code",
   "execution_count": null,
   "metadata": {},
   "outputs": [],
   "source": [
    "# df1.to_csv('exo-det_type.csv', index=False)"
   ]
  }
 ],
 "metadata": {
  "kernelspec": {
   "display_name": "base",
   "language": "python",
   "name": "python3"
  },
  "language_info": {
   "codemirror_mode": {
    "name": "ipython",
    "version": 3
   },
   "file_extension": ".py",
   "mimetype": "text/x-python",
   "name": "python",
   "nbconvert_exporter": "python",
   "pygments_lexer": "ipython3",
   "version": "3.9.18"
  }
 },
 "nbformat": 4,
 "nbformat_minor": 2
}
